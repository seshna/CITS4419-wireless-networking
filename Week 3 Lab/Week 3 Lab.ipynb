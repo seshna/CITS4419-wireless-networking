{
 "cells": [
  {
   "cell_type": "markdown",
   "id": "e549fe96",
   "metadata": {},
   "source": [
    "# Week 3 Lab\n",
    "https://lms.uwa.edu.au/bbcswebdav/pid-2599964-dt-content-rid-35484989_1/courses/CITS4419_SEM-1_2022/labs/wk3-LoRa-experiments-labsheet.html\n",
    "> The aim of this lab is to explore the behaviour of wireless channels and LoRa physical parameters in an experimental setting using TTGO T-beams. \n",
    "\n",
    "I set up this experiment at home using a sender and receiver linked to the same laptop. I put the sender near the window so I could get GPS coordinates. I output the results to `receiver.csv`"
   ]
  },
  {
   "cell_type": "markdown",
   "id": "35a47125",
   "metadata": {},
   "source": [
    "## Showing Results\n"
   ]
  },
  {
   "cell_type": "code",
   "execution_count": 1,
   "id": "cefae0b0",
   "metadata": {},
   "outputs": [
    {
     "data": {
      "text/html": [
       "<div>\n",
       "<style scoped>\n",
       "    .dataframe tbody tr th:only-of-type {\n",
       "        vertical-align: middle;\n",
       "    }\n",
       "\n",
       "    .dataframe tbody tr th {\n",
       "        vertical-align: top;\n",
       "    }\n",
       "\n",
       "    .dataframe thead th {\n",
       "        text-align: right;\n",
       "    }\n",
       "</style>\n",
       "<table border=\"1\" class=\"dataframe\">\n",
       "  <thead>\n",
       "    <tr style=\"text-align: right;\">\n",
       "      <th></th>\n",
       "      <th>Time</th>\n",
       "      <th>Number</th>\n",
       "      <th>S_Lat</th>\n",
       "      <th>S_Long</th>\n",
       "      <th>Bandwidth</th>\n",
       "      <th>CodingRate</th>\n",
       "      <th>Frequency</th>\n",
       "      <th>SpreadingFactor</th>\n",
       "      <th>TxPower</th>\n",
       "      <th>PacketRSSI</th>\n",
       "      <th>RSSI</th>\n",
       "      <th>SNR</th>\n",
       "      <th>R_Lat</th>\n",
       "      <th>R_Long</th>\n",
       "    </tr>\n",
       "  </thead>\n",
       "  <tbody>\n",
       "    <tr>\n",
       "      <th>0</th>\n",
       "      <td>02:18:01</td>\n",
       "      <td>70</td>\n",
       "      <td>-31.980528</td>\n",
       "      <td>116.072044</td>\n",
       "      <td>250000</td>\n",
       "      <td>5</td>\n",
       "      <td>915000000</td>\n",
       "      <td>7</td>\n",
       "      <td>10</td>\n",
       "      <td>-27</td>\n",
       "      <td>-130</td>\n",
       "      <td>9.75</td>\n",
       "      <td>-31.980558</td>\n",
       "      <td>116.072044</td>\n",
       "    </tr>\n",
       "    <tr>\n",
       "      <th>1</th>\n",
       "      <td>02:18:01</td>\n",
       "      <td>71</td>\n",
       "      <td>-31.980526</td>\n",
       "      <td>116.072044</td>\n",
       "      <td>250000</td>\n",
       "      <td>5</td>\n",
       "      <td>915000000</td>\n",
       "      <td>7</td>\n",
       "      <td>10</td>\n",
       "      <td>-27</td>\n",
       "      <td>-131</td>\n",
       "      <td>9.75</td>\n",
       "      <td>-31.980558</td>\n",
       "      <td>116.072044</td>\n",
       "    </tr>\n",
       "    <tr>\n",
       "      <th>2</th>\n",
       "      <td>02:18:04</td>\n",
       "      <td>72</td>\n",
       "      <td>-31.980526</td>\n",
       "      <td>116.072044</td>\n",
       "      <td>250000</td>\n",
       "      <td>5</td>\n",
       "      <td>915000000</td>\n",
       "      <td>7</td>\n",
       "      <td>10</td>\n",
       "      <td>-27</td>\n",
       "      <td>-130</td>\n",
       "      <td>9.75</td>\n",
       "      <td>-31.980560</td>\n",
       "      <td>116.072044</td>\n",
       "    </tr>\n",
       "    <tr>\n",
       "      <th>3</th>\n",
       "      <td>02:18:04</td>\n",
       "      <td>73</td>\n",
       "      <td>-31.980524</td>\n",
       "      <td>116.072052</td>\n",
       "      <td>250000</td>\n",
       "      <td>5</td>\n",
       "      <td>915000000</td>\n",
       "      <td>7</td>\n",
       "      <td>10</td>\n",
       "      <td>-27</td>\n",
       "      <td>-92</td>\n",
       "      <td>13.00</td>\n",
       "      <td>-31.980560</td>\n",
       "      <td>116.072044</td>\n",
       "    </tr>\n",
       "    <tr>\n",
       "      <th>4</th>\n",
       "      <td>02:18:07</td>\n",
       "      <td>74</td>\n",
       "      <td>-31.980524</td>\n",
       "      <td>116.072052</td>\n",
       "      <td>250000</td>\n",
       "      <td>5</td>\n",
       "      <td>915000000</td>\n",
       "      <td>7</td>\n",
       "      <td>10</td>\n",
       "      <td>-28</td>\n",
       "      <td>-90</td>\n",
       "      <td>10.00</td>\n",
       "      <td>-31.980560</td>\n",
       "      <td>116.072044</td>\n",
       "    </tr>\n",
       "    <tr>\n",
       "      <th>...</th>\n",
       "      <td>...</td>\n",
       "      <td>...</td>\n",
       "      <td>...</td>\n",
       "      <td>...</td>\n",
       "      <td>...</td>\n",
       "      <td>...</td>\n",
       "      <td>...</td>\n",
       "      <td>...</td>\n",
       "      <td>...</td>\n",
       "      <td>...</td>\n",
       "      <td>...</td>\n",
       "      <td>...</td>\n",
       "      <td>...</td>\n",
       "      <td>...</td>\n",
       "    </tr>\n",
       "    <tr>\n",
       "      <th>75</th>\n",
       "      <td>02:19:57</td>\n",
       "      <td>145</td>\n",
       "      <td>-31.980505</td>\n",
       "      <td>116.072327</td>\n",
       "      <td>250000</td>\n",
       "      <td>5</td>\n",
       "      <td>915000000</td>\n",
       "      <td>7</td>\n",
       "      <td>12</td>\n",
       "      <td>-26</td>\n",
       "      <td>-130</td>\n",
       "      <td>10.00</td>\n",
       "      <td>-31.980591</td>\n",
       "      <td>116.072060</td>\n",
       "    </tr>\n",
       "    <tr>\n",
       "      <th>76</th>\n",
       "      <td>02:19:59</td>\n",
       "      <td>146</td>\n",
       "      <td>-31.980511</td>\n",
       "      <td>116.072319</td>\n",
       "      <td>250000</td>\n",
       "      <td>5</td>\n",
       "      <td>915000000</td>\n",
       "      <td>7</td>\n",
       "      <td>12</td>\n",
       "      <td>-26</td>\n",
       "      <td>-130</td>\n",
       "      <td>10.25</td>\n",
       "      <td>-31.980593</td>\n",
       "      <td>116.072060</td>\n",
       "    </tr>\n",
       "    <tr>\n",
       "      <th>77</th>\n",
       "      <td>02:20:00</td>\n",
       "      <td>147</td>\n",
       "      <td>-31.980520</td>\n",
       "      <td>116.072304</td>\n",
       "      <td>250000</td>\n",
       "      <td>5</td>\n",
       "      <td>915000000</td>\n",
       "      <td>7</td>\n",
       "      <td>12</td>\n",
       "      <td>-26</td>\n",
       "      <td>-130</td>\n",
       "      <td>10.00</td>\n",
       "      <td>-31.980593</td>\n",
       "      <td>116.072060</td>\n",
       "    </tr>\n",
       "    <tr>\n",
       "      <th>78</th>\n",
       "      <td>02:20:02</td>\n",
       "      <td>148</td>\n",
       "      <td>-31.980528</td>\n",
       "      <td>116.072296</td>\n",
       "      <td>250000</td>\n",
       "      <td>5</td>\n",
       "      <td>915000000</td>\n",
       "      <td>7</td>\n",
       "      <td>12</td>\n",
       "      <td>-26</td>\n",
       "      <td>-130</td>\n",
       "      <td>10.25</td>\n",
       "      <td>-31.980593</td>\n",
       "      <td>116.072067</td>\n",
       "    </tr>\n",
       "    <tr>\n",
       "      <th>79</th>\n",
       "      <td>02:20:03</td>\n",
       "      <td>149</td>\n",
       "      <td>-31.980539</td>\n",
       "      <td>116.072281</td>\n",
       "      <td>250000</td>\n",
       "      <td>5</td>\n",
       "      <td>915000000</td>\n",
       "      <td>7</td>\n",
       "      <td>12</td>\n",
       "      <td>-26</td>\n",
       "      <td>-131</td>\n",
       "      <td>10.00</td>\n",
       "      <td>-31.980595</td>\n",
       "      <td>116.072067</td>\n",
       "    </tr>\n",
       "  </tbody>\n",
       "</table>\n",
       "<p>80 rows × 14 columns</p>\n",
       "</div>"
      ],
      "text/plain": [
       "        Time  Number      S_Lat      S_Long  Bandwidth  CodingRate  Frequency  \\\n",
       "0   02:18:01      70 -31.980528  116.072044     250000           5  915000000   \n",
       "1   02:18:01      71 -31.980526  116.072044     250000           5  915000000   \n",
       "2   02:18:04      72 -31.980526  116.072044     250000           5  915000000   \n",
       "3   02:18:04      73 -31.980524  116.072052     250000           5  915000000   \n",
       "4   02:18:07      74 -31.980524  116.072052     250000           5  915000000   \n",
       "..       ...     ...        ...         ...        ...         ...        ...   \n",
       "75  02:19:57     145 -31.980505  116.072327     250000           5  915000000   \n",
       "76  02:19:59     146 -31.980511  116.072319     250000           5  915000000   \n",
       "77  02:20:00     147 -31.980520  116.072304     250000           5  915000000   \n",
       "78  02:20:02     148 -31.980528  116.072296     250000           5  915000000   \n",
       "79  02:20:03     149 -31.980539  116.072281     250000           5  915000000   \n",
       "\n",
       "    SpreadingFactor  TxPower  PacketRSSI  RSSI    SNR      R_Lat      R_Long  \n",
       "0                 7       10         -27  -130   9.75 -31.980558  116.072044  \n",
       "1                 7       10         -27  -131   9.75 -31.980558  116.072044  \n",
       "2                 7       10         -27  -130   9.75 -31.980560  116.072044  \n",
       "3                 7       10         -27   -92  13.00 -31.980560  116.072044  \n",
       "4                 7       10         -28   -90  10.00 -31.980560  116.072044  \n",
       "..              ...      ...         ...   ...    ...        ...         ...  \n",
       "75                7       12         -26  -130  10.00 -31.980591  116.072060  \n",
       "76                7       12         -26  -130  10.25 -31.980593  116.072060  \n",
       "77                7       12         -26  -130  10.00 -31.980593  116.072060  \n",
       "78                7       12         -26  -130  10.25 -31.980593  116.072067  \n",
       "79                7       12         -26  -131  10.00 -31.980595  116.072067  \n",
       "\n",
       "[80 rows x 14 columns]"
      ]
     },
     "execution_count": 1,
     "metadata": {},
     "output_type": "execute_result"
    }
   ],
   "source": [
    "import pandas as pd\n",
    "import matplotlib.pyplot as plt\n",
    "\n",
    "receiver_csv = pd.read_csv('receiver.csv')\n",
    "receiver_csv"
   ]
  },
  {
   "cell_type": "code",
   "execution_count": 2,
   "id": "6fb6670a",
   "metadata": {},
   "outputs": [],
   "source": [
    "# turn the csv into an array\n",
    "data = receiver_csv.values"
   ]
  },
  {
   "cell_type": "markdown",
   "id": "6a9c74dc",
   "metadata": {},
   "source": [
    "## PacketRSSI (Packet Receiver Signal Strength)\n",
    "These 3 plots show us the affect of adjusting the power from 10 -> 12"
   ]
  },
  {
   "cell_type": "code",
   "execution_count": 6,
   "id": "895f9c18",
   "metadata": {},
   "outputs": [
    {
     "data": {
      "image/png": "[encoded data removed]",
      "text/plain": [
       "<Figure size 432x288 with 1 Axes>"
      ]
     },
     "metadata": {
      "needs_background": "light"
     },
     "output_type": "display_data"
    },
    {
     "data": {
      "image/png": "[encoded data removed]",
      "text/plain": [
       "<Figure size 432x288 with 1 Axes>"
      ]
     },
     "metadata": {
      "needs_background": "light"
     },
     "output_type": "display_data"
    }
   ],
   "source": [
    "# x = data[:50,0] # time\n",
    "column = data[:50,9]\n",
    "x = list(range(0, len(column)))\n",
    "xlabel = 'Packet'\n",
    "ylabel = 'PacketRSSI'\n",
    "plt.plot(x, column, '.')\n",
    "plt.title(ylabel + ' with TX = 10')\n",
    "plt.xlabel(xlabel)\n",
    "plt.ylabel(ylabel)\n",
    "plt.show()\n",
    "\n",
    "column = data[50:100,9]\n",
    "x = list(range(0, len(column)))\n",
    "plt.plot(x, column, '.')\n",
    "plt.title(ylabel + ' with TX = 12')\n",
    "plt.xlabel('Packet')\n",
    "plt.ylabel(ylabel)\n",
    "plt.show()"
   ]
  },
  {
   "cell_type": "markdown",
   "id": "805ec12f",
   "metadata": {},
   "source": [
    "## RSSI (Receiver Signal Strength)\n",
    "These 3 plots show us the affect of adjusting the power from 10 -> 12"
   ]
  },
  {
   "cell_type": "code",
   "execution_count": 7,
   "id": "6a3d8a37",
   "metadata": {},
   "outputs": [
    {
     "data": {
      "image/png": "[encoded data removed]",
      "text/plain": [
       "<Figure size 432x288 with 1 Axes>"
      ]
     },
     "metadata": {
      "needs_background": "light"
     },
     "output_type": "display_data"
    },
    {
     "data": {
      "image/png": "[encoded data removed]",
      "text/plain": [
       "<Figure size 432x288 with 1 Axes>"
      ]
     },
     "metadata": {
      "needs_background": "light"
     },
     "output_type": "display_data"
    }
   ],
   "source": [
    "column = data[:50,10]\n",
    "x = list(range(0, len(column)))\n",
    "xlabel = 'Packet'\n",
    "ylabel = 'RSSI'\n",
    "plt.plot(x, column, '.')\n",
    "plt.title(ylabel + ' with TX = 10')\n",
    "plt.xlabel(xlabel)\n",
    "plt.ylabel(ylabel)\n",
    "plt.show()\n",
    "\n",
    "column = data[50:100,10]\n",
    "x = list(range(0, len(column)))\n",
    "plt.plot(x, column, '.')\n",
    "plt.title(ylabel + ' with TX = 12')\n",
    "plt.xlabel('Packet')\n",
    "plt.ylabel(ylabel)\n",
    "plt.show()"
   ]
  },
  {
   "cell_type": "markdown",
   "id": "8b2155d0",
   "metadata": {},
   "source": [
    "## SNR (Signal to Noise Ratio)\n",
    "These 3 plots show us the affect of adjusting the power from 10 -> 12"
   ]
  },
  {
   "cell_type": "code",
   "execution_count": 8,
   "id": "40f3693c",
   "metadata": {},
   "outputs": [
    {
     "data": {
      "image/png": "[encoded data removed]",
      "text/plain": [
       "<Figure size 432x288 with 1 Axes>"
      ]
     },
     "metadata": {
      "needs_background": "light"
     },
     "output_type": "display_data"
    },
    {
     "data": {
      "image/png": "[encoded data removed]",
      "text/plain": [
       "<Figure size 432x288 with 1 Axes>"
      ]
     },
     "metadata": {
      "needs_background": "light"
     },
     "output_type": "display_data"
    }
   ],
   "source": [
    "column = data[:50,11]\n",
    "x = list(range(0, len(column)))\n",
    "xlabel = 'Packet'\n",
    "ylabel = 'SNR'\n",
    "plt.plot(x, column, '.')\n",
    "plt.title(ylabel + ' with TX = 10')\n",
    "plt.xlabel(xlabel)\n",
    "plt.ylabel(ylabel)\n",
    "plt.show()\n",
    "\n",
    "column = data[50:100,11]\n",
    "x = list(range(0, len(column)))\n",
    "xlabel = 'Packet'\n",
    "plt.plot(x, column, '.')\n",
    "plt.title(ylabel + ' with TX = 12')\n",
    "plt.ylabel(ylabel)\n",
    "plt.show()"
   ]
  }
 ],
 "metadata": {
  "kernelspec": {
   "display_name": "Python 3 (ipykernel)",
   "language": "python",
   "name": "python3"
  },
  "language_info": {
   "codemirror_mode": {
    "name": "ipython",
    "version": 3
   },
   "file_extension": ".py",
   "mimetype": "text/x-python",
   "name": "python",
   "nbconvert_exporter": "python",
   "pygments_lexer": "ipython3",
   "version": "3.8.5"
  }
 },
 "nbformat": 4,
 "nbformat_minor": 5
}
